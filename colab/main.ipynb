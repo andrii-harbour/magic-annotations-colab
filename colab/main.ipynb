{
 "cells": [
  {
   "cell_type": "code",
   "execution_count": null,
   "outputs": [],
   "source": [
    "!git clone https://github.com/andrii-harbour/magic-annotations-colab.git\n",
    "%cd magic-annotations-colab\n",
    "\n",
    "!pip install pdf2image==1.14.0\n",
    "!pip install PyPDF2==3.0.0\n",
    "!pip install PyMuPDF\n",
    "!pip install opencv-python\n",
    "!pip install pytesseract\n",
    "!apt-get install poppler-utils\n",
    "!apt-get install tesseract-ocr -y"
   ],
   "metadata": {
    "collapsed": false
   },
   "id": "d6c7bc64ad9d33cb"
  },
  {
   "cell_type": "code",
   "execution_count": null,
   "outputs": [],
   "source": [
    "\"\"\"Main api\"\"\"\n",
    "import json\n",
    "from io import BytesIO\n",
    "from google.colab import files\n",
    "\n",
    "from flask import current_app\n",
    "from PyPDF2 import PdfReader\n",
    "\n",
    "from app.debug import create_pdf_with_detections\n",
    "from app.logic import extract_elements_cv\n",
    "from app.logic.pdf_utils import extract_form\n",
    "\n",
    "\n",
    "def detect():\n",
    "    current_app.logger.info('--- Detecting started ---')\n",
    "\n",
    "    uploaded = files.upload()\n",
    "\n",
    "    bytes_file = BytesIO(list(uploaded.values())[0])\n",
    "\n",
    "    pdf_file = PdfReader(bytes_file)\n",
    "\n",
    "    current_app.logger.info('--- Binary extracting finished ---')\n",
    "    cv_coordinates = False\n",
    "\n",
    "    if '/AcroForm' in pdf_file.trailer['/Root']:\n",
    "        current_app.logger.info('--- Type \"pypdf2\" ---')\n",
    "        doc_pages = extract_form(bytes_file)\n",
    "        current_app.logger.info('--- PyPDF2 searching finished ---')\n",
    "    else:\n",
    "        current_app.logger.info('--- Type \"cv\" ---')\n",
    "        doc_pages = extract_elements_cv(bytes_file)\n",
    "        cv_coordinates = True\n",
    "        current_app.logger.info('--- CV searching finished ---')\n",
    "\n",
    "    current_app.logger.info('--- Detecting finished ---')\n",
    "\n",
    "    create_pdf_with_detections(doc_pages, bytes_file, cv_coordinates)\n",
    "\n",
    "    results = [page.fillable_elements_to_dict() for page in doc_pages]\n",
    "    \n",
    "    # save to json \n",
    "    with open('output/result.json', 'w') as f:\n",
    "      json_result = {'results': results}\n",
    "      json.dump(json_result, f)\n",
    "\n",
    "detect()\n"
   ],
   "metadata": {
    "collapsed": false
   },
   "id": "3078d4588de9a630"
  },
  {
   "cell_type": "code",
   "execution_count": null,
   "outputs": [],
   "source": [],
   "metadata": {
    "collapsed": false
   },
   "id": "a3adaf9b29a899c3"
  }
 ],
 "metadata": {
  "kernelspec": {
   "display_name": "Python 3",
   "language": "python",
   "name": "python3"
  },
  "language_info": {
   "codemirror_mode": {
    "name": "ipython",
    "version": 2
   },
   "file_extension": ".py",
   "mimetype": "text/x-python",
   "name": "python",
   "nbconvert_exporter": "python",
   "pygments_lexer": "ipython2",
   "version": "2.7.6"
  }
 },
 "nbformat": 4,
 "nbformat_minor": 5
}
